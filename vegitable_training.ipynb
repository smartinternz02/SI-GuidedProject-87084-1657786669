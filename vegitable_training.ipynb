{
 "cells": [
  {
   "cell_type": "code",
   "execution_count": 1,
   "id": "d2c3bdec",
   "metadata": {},
   "outputs": [],
   "source": [
    "from keras.preprocessing.image import ImageDataGenerator\n",
    "train_datagen=ImageDataGenerator(rescale=1./255,shear_range=0.2,zoom_range=0.2,horizontal_flip=True)\n",
    "test_datagen=ImageDataGenerator(rescale=1./255)"
   ]
  },
  {
   "cell_type": "code",
   "execution_count": 2,
   "id": "a36bd691",
   "metadata": {},
   "outputs": [
    {
     "name": "stdout",
     "output_type": "stream",
     "text": [
      "Found 11386 images belonging to 9 classes.\n",
      "Found 3416 images belonging to 9 classes.\n"
     ]
    }
   ],
   "source": [
    "x_train=train_datagen.flow_from_directory(r'C:\\Users\\dell\\Desktop\\Dataset Plant Disease\\Veg-dataset\\Veg-dataset\\train_set',\n",
    "                                          target_size=(128,128),batch_size=16)\n",
    "x_test=test_datagen.flow_from_directory(r'C:\\Users\\dell\\Desktop\\Dataset Plant Disease\\Veg-dataset\\Veg-dataset\\test_set',\n",
    "                                        target_size=(128,128),batch_size=16)"
   ]
  },
  {
   "cell_type": "code",
   "execution_count": 3,
   "id": "a16205b0",
   "metadata": {},
   "outputs": [],
   "source": [
    "from keras.models import Sequential\n",
    "from keras.layers import Dense\n",
    "from keras.layers import Convolution2D\n",
    "from keras.layers import MaxPooling2D\n",
    "from keras.layers import Flatten"
   ]
  },
  {
   "cell_type": "code",
   "execution_count": 4,
   "id": "2730f66e",
   "metadata": {},
   "outputs": [],
   "source": [
    "model=Sequential()"
   ]
  },
  {
   "cell_type": "code",
   "execution_count": 5,
   "id": "23afb611",
   "metadata": {},
   "outputs": [],
   "source": [
    "model.add(Convolution2D(32,(3,3),input_shape=(128,128,3),activation='relu'))"
   ]
  },
  {
   "cell_type": "code",
   "execution_count": 6,
   "id": "b99f4152",
   "metadata": {},
   "outputs": [],
   "source": [
    "model.add(MaxPooling2D(pool_size=(2,2)))"
   ]
  },
  {
   "cell_type": "code",
   "execution_count": 7,
   "id": "f50f95c0",
   "metadata": {},
   "outputs": [],
   "source": [
    "model.add(Flatten())"
   ]
  },
  {
   "cell_type": "code",
   "execution_count": 8,
   "id": "f3da6312",
   "metadata": {},
   "outputs": [],
   "source": [
    "model.add(Dense(300,activation='relu'))\n",
    "model.add(Dense(150,activation='relu'))\n",
    "model.add(Dense(75,activation='relu'))\n",
    "model.add(Dense(9,activation='softmax')) "
   ]
  },
  {
   "cell_type": "code",
   "execution_count": 9,
   "id": "6779d66c",
   "metadata": {},
   "outputs": [],
   "source": [
    "model.compile(loss='categorical_crossentropy',optimizer=\"adam\",metrics=[\"accuracy\"])"
   ]
  },
  {
   "cell_type": "code",
   "execution_count": 10,
   "id": "58921a13",
   "metadata": {},
   "outputs": [
    {
     "name": "stdout",
     "output_type": "stream",
     "text": [
      "Epoch 1/20\n",
      "40/40 [==============================] - 38s 911ms/step - loss: 4.5547 - accuracy: 0.1984 - val_loss: 2.0597 - val_accuracy: 0.2637\n",
      "Epoch 2/20\n",
      "40/40 [==============================] - 35s 885ms/step - loss: 1.8303 - accuracy: 0.3688 - val_loss: 1.5803 - val_accuracy: 0.4551\n",
      "Epoch 3/20\n",
      "40/40 [==============================] - 36s 888ms/step - loss: 1.5984 - accuracy: 0.4322 - val_loss: 1.3822 - val_accuracy: 0.5273\n",
      "Epoch 4/20\n",
      "40/40 [==============================] - 36s 898ms/step - loss: 1.3381 - accuracy: 0.5531 - val_loss: 1.3759 - val_accuracy: 0.5117\n",
      "Epoch 5/20\n",
      "40/40 [==============================] - 35s 886ms/step - loss: 1.1495 - accuracy: 0.6094 - val_loss: 1.2793 - val_accuracy: 0.6250\n",
      "Epoch 6/20\n",
      "40/40 [==============================] - 35s 887ms/step - loss: 1.1607 - accuracy: 0.5766 - val_loss: 0.9495 - val_accuracy: 0.6738\n",
      "Epoch 7/20\n",
      "40/40 [==============================] - 39s 973ms/step - loss: 1.0597 - accuracy: 0.6313 - val_loss: 0.9803 - val_accuracy: 0.6504\n",
      "Epoch 8/20\n",
      "40/40 [==============================] - 35s 884ms/step - loss: 0.9280 - accuracy: 0.6562 - val_loss: 0.7452 - val_accuracy: 0.7422\n",
      "Epoch 9/20\n",
      "40/40 [==============================] - 36s 893ms/step - loss: 0.8922 - accuracy: 0.6891 - val_loss: 1.1796 - val_accuracy: 0.5801\n",
      "Epoch 10/20\n",
      "40/40 [==============================] - 36s 893ms/step - loss: 0.8254 - accuracy: 0.7003 - val_loss: 1.3701 - val_accuracy: 0.5332\n",
      "Epoch 11/20\n",
      "40/40 [==============================] - 37s 914ms/step - loss: 0.8751 - accuracy: 0.6984 - val_loss: 1.1109 - val_accuracy: 0.6523\n",
      "Epoch 12/20\n",
      "40/40 [==============================] - 35s 887ms/step - loss: 0.8054 - accuracy: 0.6938 - val_loss: 0.9166 - val_accuracy: 0.6738\n",
      "Epoch 13/20\n",
      "40/40 [==============================] - 36s 889ms/step - loss: 0.7661 - accuracy: 0.7391 - val_loss: 0.8735 - val_accuracy: 0.7285\n",
      "Epoch 14/20\n",
      "40/40 [==============================] - 39s 987ms/step - loss: 0.6640 - accuracy: 0.7609 - val_loss: 0.7273 - val_accuracy: 0.7500\n",
      "Epoch 15/20\n",
      "40/40 [==============================] - 36s 901ms/step - loss: 0.7922 - accuracy: 0.7219 - val_loss: 0.7134 - val_accuracy: 0.7441\n",
      "Epoch 16/20\n",
      "40/40 [==============================] - 38s 952ms/step - loss: 0.7394 - accuracy: 0.7531 - val_loss: 0.6301 - val_accuracy: 0.7734\n",
      "Epoch 17/20\n",
      "40/40 [==============================] - 35s 886ms/step - loss: 0.7078 - accuracy: 0.7547 - val_loss: 0.7191 - val_accuracy: 0.7480\n",
      "Epoch 18/20\n",
      "40/40 [==============================] - 36s 907ms/step - loss: 0.7014 - accuracy: 0.7484 - val_loss: 0.7268 - val_accuracy: 0.7363\n",
      "Epoch 19/20\n",
      "40/40 [==============================] - 43s 1s/step - loss: 0.6831 - accuracy: 0.7729 - val_loss: 1.2506 - val_accuracy: 0.6172\n",
      "Epoch 20/20\n",
      "40/40 [==============================] - 47s 1s/step - loss: 0.6025 - accuracy: 0.7859 - val_loss: 0.7107 - val_accuracy: 0.7539\n"
     ]
    },
    {
     "data": {
      "text/plain": [
       "<keras.callbacks.History at 0x22291686d90>"
      ]
     },
     "execution_count": 10,
     "metadata": {},
     "output_type": "execute_result"
    }
   ],
   "source": [
    "model.fit(x_train, steps_per_epoch=40,epochs=20, validation_data=x_test,validation_steps=32)"
   ]
  },
  {
   "cell_type": "code",
   "execution_count": 11,
   "id": "3697c76f",
   "metadata": {},
   "outputs": [],
   "source": [
    "model.save('vegetable.h5')"
   ]
  },
  {
   "cell_type": "code",
   "execution_count": null,
   "id": "c694fd4e",
   "metadata": {},
   "outputs": [],
   "source": []
  }
 ],
 "metadata": {
  "kernelspec": {
   "display_name": "Python 3 (ipykernel)",
   "language": "python",
   "name": "python3"
  },
  "language_info": {
   "codemirror_mode": {
    "name": "ipython",
    "version": 3
   },
   "file_extension": ".py",
   "mimetype": "text/x-python",
   "name": "python",
   "nbconvert_exporter": "python",
   "pygments_lexer": "ipython3",
   "version": "3.9.12"
  }
 },
 "nbformat": 4,
 "nbformat_minor": 5
}
