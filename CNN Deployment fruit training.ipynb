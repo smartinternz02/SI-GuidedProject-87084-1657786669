{
 "cells": [
  {
   "cell_type": "code",
   "execution_count": 1,
   "id": "34f50094",
   "metadata": {},
   "outputs": [],
   "source": [
    "from keras.preprocessing.image import ImageDataGenerator\n",
    "train_datagen=ImageDataGenerator(rescale=1./255,shear_range=0.2,zoom_range=0.2,horizontal_flip=True)\n",
    "test_datagen=ImageDataGenerator(rescale=1./255)"
   ]
  },
  {
   "cell_type": "markdown",
   "id": "64c85261",
   "metadata": {},
   "source": [
    "# Preprocess the Image"
   ]
  },
  {
   "cell_type": "code",
   "execution_count": 2,
   "id": "925e11ba",
   "metadata": {},
   "outputs": [
    {
     "name": "stdout",
     "output_type": "stream",
     "text": [
      "Found 5384 images belonging to 6 classes.\n",
      "Found 1686 images belonging to 6 classes.\n"
     ]
    }
   ],
   "source": [
    "x_train=train_datagen.flow_from_directory(r'C:\\Users\\dell\\Desktop\\Dataset Plant Disease\\fruit-dataset\\fruit-dataset\\train',\n",
    "                                          target_size=(128,128),batch_size=32)\n",
    "x_test=test_datagen.flow_from_directory(r'C:\\Users\\dell\\Desktop\\Dataset Plant Disease\\fruit-dataset\\fruit-dataset\\test',\n",
    "                                        target_size=(128,128),batch_size=32)\n"
   ]
  },
  {
   "cell_type": "markdown",
   "id": "6c62022d",
   "metadata": {},
   "source": [
    "# Model Building For Fruit Disease Prediction"
   ]
  },
  {
   "cell_type": "markdown",
   "id": "52693b30",
   "metadata": {},
   "source": [
    "# Import the Libraries"
   ]
  },
  {
   "cell_type": "code",
   "execution_count": 3,
   "id": "de11d80c",
   "metadata": {},
   "outputs": [],
   "source": [
    "from keras.models import Sequential\n",
    "from keras.layers import Dense\n",
    "from keras.layers import Convolution2D\n",
    "from keras.layers import MaxPooling2D\n",
    "from keras.layers import Flatten"
   ]
  },
  {
   "cell_type": "markdown",
   "id": "9f6cb962",
   "metadata": {},
   "source": [
    "# Initializing the Model"
   ]
  },
  {
   "cell_type": "code",
   "execution_count": 4,
   "id": "c2afc8d1",
   "metadata": {},
   "outputs": [],
   "source": [
    "model=Sequential()"
   ]
  },
  {
   "cell_type": "markdown",
   "id": "ed56be93",
   "metadata": {},
   "source": [
    "# Adding CNN Layers"
   ]
  },
  {
   "cell_type": "code",
   "execution_count": 5,
   "id": "fd0a3ed1",
   "metadata": {},
   "outputs": [],
   "source": [
    "model.add(Convolution2D(32,(3,3),input_shape=(128,128,3),activation='relu'))"
   ]
  },
  {
   "cell_type": "markdown",
   "id": "9e7b31db",
   "metadata": {},
   "source": [
    "# Adding the Pooling Layer"
   ]
  },
  {
   "cell_type": "code",
   "execution_count": 6,
   "id": "5041882a",
   "metadata": {},
   "outputs": [],
   "source": [
    "model.add(MaxPooling2D(pool_size=(2,2)))"
   ]
  },
  {
   "cell_type": "markdown",
   "id": "ffa9b031",
   "metadata": {},
   "source": [
    "# Adding the Flatten Layer"
   ]
  },
  {
   "cell_type": "code",
   "execution_count": 7,
   "id": "0d538494",
   "metadata": {},
   "outputs": [],
   "source": [
    "model.add(Flatten())"
   ]
  },
  {
   "cell_type": "code",
   "execution_count": 8,
   "id": "5ef53cb5",
   "metadata": {},
   "outputs": [
    {
     "name": "stdout",
     "output_type": "stream",
     "text": [
      "Model: \"sequential\"\n",
      "_________________________________________________________________\n",
      " Layer (type)                Output Shape              Param #   \n",
      "=================================================================\n",
      " conv2d (Conv2D)             (None, 126, 126, 32)      896       \n",
      "                                                                 \n",
      " max_pooling2d (MaxPooling2D  (None, 63, 63, 32)       0         \n",
      " )                                                               \n",
      "                                                                 \n",
      " flatten (Flatten)           (None, 127008)            0         \n",
      "                                                                 \n",
      "=================================================================\n",
      "Total params: 896\n",
      "Trainable params: 896\n",
      "Non-trainable params: 0\n",
      "_________________________________________________________________\n"
     ]
    }
   ],
   "source": [
    "model.summary()"
   ]
  },
  {
   "cell_type": "markdown",
   "id": "cfd8bdb4",
   "metadata": {},
   "source": [
    "# Adding Dense Layers"
   ]
  },
  {
   "cell_type": "markdown",
   "id": "6b6b3d89",
   "metadata": {},
   "source": [
    "# Adding the Hidden Layers"
   ]
  },
  {
   "cell_type": "markdown",
   "id": "021feda6",
   "metadata": {},
   "source": [
    "# Adding the Output Layers"
   ]
  },
  {
   "cell_type": "code",
   "execution_count": 9,
   "id": "e7bb293b",
   "metadata": {},
   "outputs": [],
   "source": [
    "model.add(Dense(40,activation='relu'))\n",
    "model.add(Dense(20,activation='relu'))\n",
    "model.add(Dense(6,activation='softmax'))         "
   ]
  },
  {
   "cell_type": "markdown",
   "id": "9cd681f0",
   "metadata": {},
   "source": [
    "# Compile the Model"
   ]
  },
  {
   "cell_type": "code",
   "execution_count": 10,
   "id": "ddee30b3",
   "metadata": {},
   "outputs": [],
   "source": [
    "model.compile(loss='categorical_crossentropy',optimizer=\"adam\",metrics=[\"accuracy\"])"
   ]
  },
  {
   "cell_type": "markdown",
   "id": "6d3fee29",
   "metadata": {},
   "source": [
    "# Fitting and Saving the Model"
   ]
  },
  {
   "cell_type": "code",
   "execution_count": 14,
   "id": "5c131ae0",
   "metadata": {},
   "outputs": [
    {
     "name": "stdout",
     "output_type": "stream",
     "text": [
      "Epoch 1/15\n",
      "5/5 [==============================] - 13s 3s/step - loss: 0.7098 - accuracy: 0.7125 - val_loss: 0.6522 - val_accuracy: 0.7500\n",
      "Epoch 2/15\n",
      "5/5 [==============================] - 11s 2s/step - loss: 0.7460 - accuracy: 0.7625 - val_loss: 0.8254 - val_accuracy: 0.6562\n",
      "Epoch 3/15\n",
      "5/5 [==============================] - 13s 3s/step - loss: 0.9426 - accuracy: 0.6812 - val_loss: 0.9445 - val_accuracy: 0.6562\n",
      "Epoch 4/15\n",
      "5/5 [==============================] - 13s 2s/step - loss: 0.9277 - accuracy: 0.6375 - val_loss: 0.8364 - val_accuracy: 0.7188\n",
      "Epoch 5/15\n",
      "5/5 [==============================] - 12s 2s/step - loss: 0.8816 - accuracy: 0.6500 - val_loss: 0.4750 - val_accuracy: 0.8750\n",
      "Epoch 6/15\n",
      "5/5 [==============================] - 11s 2s/step - loss: 0.7540 - accuracy: 0.7563 - val_loss: 0.6043 - val_accuracy: 0.8438\n",
      "Epoch 7/15\n",
      "5/5 [==============================] - 12s 2s/step - loss: 0.6478 - accuracy: 0.7625 - val_loss: 0.3761 - val_accuracy: 0.8750\n",
      "Epoch 8/15\n",
      "5/5 [==============================] - 11s 2s/step - loss: 0.6908 - accuracy: 0.7688 - val_loss: 0.3938 - val_accuracy: 0.8750\n",
      "Epoch 9/15\n",
      "5/5 [==============================] - 14s 3s/step - loss: 0.5580 - accuracy: 0.7937 - val_loss: 0.4754 - val_accuracy: 0.8125\n",
      "Epoch 10/15\n",
      "5/5 [==============================] - 11s 2s/step - loss: 0.5831 - accuracy: 0.7750 - val_loss: 0.6002 - val_accuracy: 0.7812\n",
      "Epoch 11/15\n",
      "5/5 [==============================] - 10s 2s/step - loss: 0.4918 - accuracy: 0.8562 - val_loss: 0.5774 - val_accuracy: 0.8125\n",
      "Epoch 12/15\n",
      "5/5 [==============================] - 11s 2s/step - loss: 0.5990 - accuracy: 0.7375 - val_loss: 0.3859 - val_accuracy: 0.8438\n",
      "Epoch 13/15\n",
      "5/5 [==============================] - 11s 2s/step - loss: 0.4291 - accuracy: 0.8438 - val_loss: 0.4028 - val_accuracy: 0.8125\n",
      "Epoch 14/15\n",
      "5/5 [==============================] - 13s 3s/step - loss: 0.5918 - accuracy: 0.7750 - val_loss: 0.3192 - val_accuracy: 0.8750\n",
      "Epoch 15/15\n",
      "5/5 [==============================] - 11s 2s/step - loss: 0.4551 - accuracy: 0.8625 - val_loss: 0.3974 - val_accuracy: 0.8438\n"
     ]
    },
    {
     "data": {
      "text/plain": [
       "<keras.callbacks.History at 0x15d8f79f7c0>"
      ]
     },
     "execution_count": 14,
     "metadata": {},
     "output_type": "execute_result"
    }
   ],
   "source": [
    "model.fit(x_train, steps_per_epoch=len(x_train)//32, validation_data=x_test,validation_steps=len(x_test)//32, epochs=15)"
   ]
  },
  {
   "cell_type": "code",
   "execution_count": 17,
   "id": "5a11f212",
   "metadata": {},
   "outputs": [],
   "source": [
    "model.save(\"fruit.h5\")"
   ]
  },
  {
   "cell_type": "code",
   "execution_count": null,
   "id": "a96e1718",
   "metadata": {},
   "outputs": [],
   "source": []
  }
 ],
 "metadata": {
  "kernelspec": {
   "display_name": "Python 3 (ipykernel)",
   "language": "python",
   "name": "python3"
  },
  "language_info": {
   "codemirror_mode": {
    "name": "ipython",
    "version": 3
   },
   "file_extension": ".py",
   "mimetype": "text/x-python",
   "name": "python",
   "nbconvert_exporter": "python",
   "pygments_lexer": "ipython3",
   "version": "3.9.12"
  }
 },
 "nbformat": 4,
 "nbformat_minor": 5
}
